{
 "cells": [
  {
   "cell_type": "markdown",
   "id": "dc81bf33",
   "metadata": {},
   "source": [
    "# Mathematics for Data Science from scratch_DE_Nelson_2021"
   ]
  },
  {
   "cell_type": "markdown",
   "id": "1f133a6c",
   "metadata": {},
   "source": [
    "### Problem Statement"
   ]
  },
  {
   "cell_type": "markdown",
   "id": "c7866771",
   "metadata": {},
   "source": [
    "**A user added a new record to a dataset but forgot to indicate the value for the variable (y). This\n",
    "variable (y ) contains either the value 1 or 2.\n",
    "As a data scientist, you need to develop a way that uses the database to guess the missing value\n",
    "and autocomplete that field for them. You will need to write a function that can classify a new record\n",
    "into 1 or 2. You will simply find the closest observation and assign its value for the missing variable\n",
    "(y) as the missing value. The distance used to make the comparison between the two observations\n",
    "can be either Euclidean or Manhattan. This is the same principle by which K-Nearest Neighbors\n",
    "(KNN) Algorithm, a popular distance-based machine learning algorithm, works.**\n"
   ]
  },
  {
   "cell_type": "markdown",
   "id": "9587812b",
   "metadata": {},
   "source": [
    "**A few things to note:*\n",
    "- ● Write the nearest_neighbor_predict() function. It takes three arguments:\n",
    "- ○ Training set features (train_features)\n",
    "- ○ Training set target (train_target )\n",
    "- ○ New observation features (new_features)\n",
    "- ● You can use the euclidean or manhattan function to calculate the distance. This function\n",
    "    should take in the train_features values and new_features as the parameters.\n",
    "- ● Use the argmin() function to return the shortest distance."
   ]
  },
  {
   "cell_type": "code",
   "execution_count": 1,
   "id": "7d2dac00",
   "metadata": {},
   "outputs": [],
   "source": [
    "#We import our libraries for statistical use and hyperparameter tunning.\n",
    "import numpy as np\n",
    "import pandas as pd\n",
    "from scipy.spatial import distance\n",
    "import seaborn as sns #Python library for Visualization\n",
    "import matplotlib.pyplot as plt #Data Visualization\n",
    "import plotly as py # Data plotting"
   ]
  },
  {
   "cell_type": "code",
   "execution_count": 2,
   "id": "cd1e0ff0",
   "metadata": {},
   "outputs": [
    {
     "data": {
      "text/html": [
       "<div>\n",
       "<style scoped>\n",
       "    .dataframe tbody tr th:only-of-type {\n",
       "        vertical-align: middle;\n",
       "    }\n",
       "\n",
       "    .dataframe tbody tr th {\n",
       "        vertical-align: top;\n",
       "    }\n",
       "\n",
       "    .dataframe thead th {\n",
       "        text-align: right;\n",
       "    }\n",
       "</style>\n",
       "<table border=\"1\" class=\"dataframe\">\n",
       "  <thead>\n",
       "    <tr style=\"text-align: right;\">\n",
       "      <th></th>\n",
       "      <th>y</th>\n",
       "      <th>x1</th>\n",
       "      <th>x2</th>\n",
       "      <th>x3</th>\n",
       "      <th>x4</th>\n",
       "      <th>x5</th>\n",
       "    </tr>\n",
       "  </thead>\n",
       "  <tbody>\n",
       "    <tr>\n",
       "      <th>0</th>\n",
       "      <td>1.0</td>\n",
       "      <td>38.5</td>\n",
       "      <td>6.9</td>\n",
       "      <td>18.9</td>\n",
       "      <td>3.0</td>\n",
       "      <td>5.0</td>\n",
       "    </tr>\n",
       "    <tr>\n",
       "      <th>1</th>\n",
       "      <td>1.0</td>\n",
       "      <td>38.0</td>\n",
       "      <td>8.5</td>\n",
       "      <td>19.2</td>\n",
       "      <td>9.0</td>\n",
       "      <td>17.0</td>\n",
       "    </tr>\n",
       "    <tr>\n",
       "      <th>2</th>\n",
       "      <td>1.0</td>\n",
       "      <td>34.7</td>\n",
       "      <td>10.3</td>\n",
       "      <td>19.8</td>\n",
       "      <td>1.0</td>\n",
       "      <td>9.0</td>\n",
       "    </tr>\n",
       "    <tr>\n",
       "      <th>3</th>\n",
       "      <td>1.0</td>\n",
       "      <td>45.9</td>\n",
       "      <td>11.1</td>\n",
       "      <td>17.5</td>\n",
       "      <td>11.0</td>\n",
       "      <td>23.0</td>\n",
       "    </tr>\n",
       "    <tr>\n",
       "      <th>4</th>\n",
       "      <td>1.0</td>\n",
       "      <td>42.4</td>\n",
       "      <td>10.0</td>\n",
       "      <td>19.9</td>\n",
       "      <td>6.0</td>\n",
       "      <td>14.0</td>\n",
       "    </tr>\n",
       "  </tbody>\n",
       "</table>\n",
       "</div>"
      ],
      "text/plain": [
       "     y    x1    x2    x3    x4    x5\n",
       "0  1.0  38.5   6.9  18.9   3.0   5.0\n",
       "1  1.0  38.0   8.5  19.2   9.0  17.0\n",
       "2  1.0  34.7  10.3  19.8   1.0   9.0\n",
       "3  1.0  45.9  11.1  17.5  11.0  23.0\n",
       "4  1.0  42.4  10.0  19.9   6.0  14.0"
      ]
     },
     "execution_count": 2,
     "metadata": {},
     "output_type": "execute_result"
    }
   ],
   "source": [
    "#Lets define the dataset\n",
    "\n",
    "columns = ['y', 'x1', 'x2', 'x3', 'x4', 'x5']\n",
    "\n",
    "train_df = pd.DataFrame([[1.0, 38.5, 6.9, 18.9, 3.0, 5.0], [1.0, 38.0, 8.5, 19.2, 9.0, 17.0], [1.0, 34.7, 10.3, 19.8, 1.0, 9.0], [1.0, 45.9, 11.1, 17.5, 11.0, 23.0], [1.0, 42.4, 10.0, 19.9, 6.0, 14.0], [1.0, 46.0, 10.2, 20.5, 3.0, 12.0], [2.0, 77.7, 13.2, 39.3, 3.0, 17.0], [2.0, 69.8, 11.1, 31.4, 12.0, 23.0], [2.0, 78.2, 19.4, 33.2, 4.0, 9.0], [2.0, 55.5, 7.8, 29.6, 1.0, 25.0], [2.0, 74.3, 16.0, 34.2, 14.0, 17.0], [2.0, 78.3, 12.3, 42.6, 23.0, 23.0], [2.0, 74.0, 18.1, 49.0, 8.0, 9.0], [2.0, 71.4, 20.1, 60.4, 2.0, 10.0], [3.0, 85.0, 17.8, 56.1, 14.0, 14.0], [3.0, 79.8, 9.8, 44.8, 9.0, 10.0], [3.0, 72.0, 10.2, 37.3, 7.0, 9.0], [3.0, 95.3, 11.0, 51.5, 15.0, 23.0], [3.0, 69.3, 9.5, 42.3, 4.0, 9.0], [3.0, 89.8, 11.2, 58.2, 24.0, 25.0]\n",
    "], columns=columns)\n",
    "\n",
    "# previewing the dataset\n",
    "train_df.head()"
   ]
  },
  {
   "cell_type": "code",
   "execution_count": 3,
   "id": "bfb4ffb4",
   "metadata": {},
   "outputs": [
    {
     "data": {
      "text/plain": [
       "(20, 6)"
      ]
     },
     "execution_count": 3,
     "metadata": {},
     "output_type": "execute_result"
    }
   ],
   "source": [
    "train_df.shape#preview the no. of records"
   ]
  },
  {
   "cell_type": "code",
   "execution_count": 4,
   "id": "e962b2cf",
   "metadata": {},
   "outputs": [
    {
     "name": "stdout",
     "output_type": "stream",
     "text": [
      "<class 'pandas.core.frame.DataFrame'>\n",
      "RangeIndex: 20 entries, 0 to 19\n",
      "Data columns (total 6 columns):\n",
      " #   Column  Non-Null Count  Dtype  \n",
      "---  ------  --------------  -----  \n",
      " 0   y       20 non-null     float64\n",
      " 1   x1      20 non-null     float64\n",
      " 2   x2      20 non-null     float64\n",
      " 3   x3      20 non-null     float64\n",
      " 4   x4      20 non-null     float64\n",
      " 5   x5      20 non-null     float64\n",
      "dtypes: float64(6)\n",
      "memory usage: 1.1 KB\n"
     ]
    }
   ],
   "source": [
    "#check for Index range,data columns and entries in our dataset\n",
    "train_df.info()"
   ]
  },
  {
   "cell_type": "code",
   "execution_count": 5,
   "id": "19c62eac",
   "metadata": {},
   "outputs": [
    {
     "data": {
      "text/plain": [
       "0"
      ]
     },
     "execution_count": 5,
     "metadata": {},
     "output_type": "execute_result"
    }
   ],
   "source": [
    "#Checking for duplicates in our dataset\n",
    "sum(train_df.duplicated())"
   ]
  },
  {
   "cell_type": "code",
   "execution_count": 6,
   "id": "0fe5c266",
   "metadata": {},
   "outputs": [],
   "source": [
    "#we import the sqrt function used to get the square root of the given number in Python\n",
    "from math import sqrt"
   ]
  },
  {
   "cell_type": "code",
   "execution_count": 7,
   "id": "6f2da4c8",
   "metadata": {},
   "outputs": [],
   "source": [
    "#we calculate the Euclidean distance between the two numbers(x,y)\n",
    "def euclidean_distance(row1, row2):\n",
    "    distance = 0.0\n",
    "    for i in range(len(row1)):\n",
    "        distance += (pd.to_numeric(row1[i], errors='coerce') - pd.to_numeric(row2[i], errors='coerce'))**2\n",
    "    return sqrt(distance)"
   ]
  },
  {
   "cell_type": "markdown",
   "id": "08ae311d",
   "metadata": {},
   "source": [
    "**We need to locate similar k-means**\n",
    "- K-means clustering is a clustering algorithm that aims to partition n observations into k clusters. Initialisation – K initial “means” (centroids) are generated at random Assignment – K clusters are created by associating each observation with the nearest centroid Update. "
   ]
  },
  {
   "cell_type": "code",
   "execution_count": 8,
   "id": "9f6ec765",
   "metadata": {},
   "outputs": [],
   "source": [
    "#we now locate the most similar neighbors\n",
    "def get_neighbors(train, test_row, num_neighbors):\n",
    "    distances = list()\n",
    "    for train_row in train:\n",
    "        dist = euclidean_distance(test_row, train_row)\n",
    "        distances.append((train_row, dist))\n",
    "    distances.sort(key=lambda x: x[1])\n",
    "    neighbors = list()\n",
    "    for i in range(num_neighbors):\n",
    "        neighbors.append(distances[i][0])\n",
    "    return neighbors"
   ]
  },
  {
   "cell_type": "code",
   "execution_count": 9,
   "id": "0d72ae5e",
   "metadata": {},
   "outputs": [],
   "source": [
    "#We now create a prediction \n",
    "def nearest_neighbor_predict(train_features, train_target, new_features): \n",
    "    # YOUR CODE GOES BELOW\n",
    "  #\n",
    "  neighbors = get_neighbors(train_features, train_target, new_features)\n",
    "  output_values = [row[-1] for row in neighbors]\n",
    "  prediction = max(set(output_values), key=output_values.count)\n",
    "  return prediction"
   ]
  },
  {
   "cell_type": "code",
   "execution_count": 10,
   "id": "83f297be",
   "metadata": {},
   "outputs": [
    {
     "data": {
      "text/plain": [
       "x1    float64\n",
       "x2    float64\n",
       "x3    float64\n",
       "x4    float64\n",
       "x5    float64\n",
       "dtype: object"
      ]
     },
     "execution_count": 10,
     "metadata": {},
     "output_type": "execute_result"
    }
   ],
   "source": [
    "#We now define our features\n",
    "train_features = train_df.drop('y', axis=1)\n",
    "train_target = train_df['y'] # YOUR CODE GOES HERE...Hint: this is the Y column\n",
    "train_features = train_features.applymap(lambda x: float(x))\n",
    "train_features.dtypes"
   ]
  },
  {
   "cell_type": "code",
   "execution_count": 11,
   "id": "8c2742a1",
   "metadata": {},
   "outputs": [
    {
     "data": {
      "text/html": [
       "<div>\n",
       "<style scoped>\n",
       "    .dataframe tbody tr th:only-of-type {\n",
       "        vertical-align: middle;\n",
       "    }\n",
       "\n",
       "    .dataframe tbody tr th {\n",
       "        vertical-align: top;\n",
       "    }\n",
       "\n",
       "    .dataframe thead th {\n",
       "        text-align: right;\n",
       "    }\n",
       "</style>\n",
       "<table border=\"1\" class=\"dataframe\">\n",
       "  <thead>\n",
       "    <tr style=\"text-align: right;\">\n",
       "      <th></th>\n",
       "      <th>x1</th>\n",
       "      <th>x2</th>\n",
       "      <th>x3</th>\n",
       "      <th>x4</th>\n",
       "      <th>x5</th>\n",
       "    </tr>\n",
       "  </thead>\n",
       "  <tbody>\n",
       "    <tr>\n",
       "      <th>0</th>\n",
       "      <td>38.5</td>\n",
       "      <td>6.9</td>\n",
       "      <td>18.9</td>\n",
       "      <td>3.0</td>\n",
       "      <td>5.0</td>\n",
       "    </tr>\n",
       "    <tr>\n",
       "      <th>1</th>\n",
       "      <td>38.0</td>\n",
       "      <td>8.5</td>\n",
       "      <td>19.2</td>\n",
       "      <td>9.0</td>\n",
       "      <td>17.0</td>\n",
       "    </tr>\n",
       "    <tr>\n",
       "      <th>2</th>\n",
       "      <td>34.7</td>\n",
       "      <td>10.3</td>\n",
       "      <td>19.8</td>\n",
       "      <td>1.0</td>\n",
       "      <td>9.0</td>\n",
       "    </tr>\n",
       "    <tr>\n",
       "      <th>3</th>\n",
       "      <td>45.9</td>\n",
       "      <td>11.1</td>\n",
       "      <td>17.5</td>\n",
       "      <td>11.0</td>\n",
       "      <td>23.0</td>\n",
       "    </tr>\n",
       "    <tr>\n",
       "      <th>4</th>\n",
       "      <td>42.4</td>\n",
       "      <td>10.0</td>\n",
       "      <td>19.9</td>\n",
       "      <td>6.0</td>\n",
       "      <td>14.0</td>\n",
       "    </tr>\n",
       "  </tbody>\n",
       "</table>\n",
       "</div>"
      ],
      "text/plain": [
       "     x1    x2    x3    x4    x5\n",
       "0  38.5   6.9  18.9   3.0   5.0\n",
       "1  38.0   8.5  19.2   9.0  17.0\n",
       "2  34.7  10.3  19.8   1.0   9.0\n",
       "3  45.9  11.1  17.5  11.0  23.0\n",
       "4  42.4  10.0  19.9   6.0  14.0"
      ]
     },
     "execution_count": 11,
     "metadata": {},
     "output_type": "execute_result"
    }
   ],
   "source": [
    "#lets visualize few records\n",
    "train_features.head()"
   ]
  },
  {
   "cell_type": "code",
   "execution_count": 12,
   "id": "2c84b2a3",
   "metadata": {},
   "outputs": [],
   "source": [
    "#Lets create a new record and name it test_df\n",
    "test_df = np.array([72, 14, 39, 8, 16])"
   ]
  },
  {
   "cell_type": "code",
   "execution_count": 13,
   "id": "f508c917",
   "metadata": {},
   "outputs": [],
   "source": [
    "#test_df=np.array([72, 14, 39, 8, 16])\n",
    "#test_df=test_df.astype(float)\n",
    "#print(test_df)"
   ]
  },
  {
   "cell_type": "markdown",
   "id": "3d6e0fb9",
   "metadata": {},
   "source": [
    "**Convert a 1D array to a 2D array in numpy**"
   ]
  },
  {
   "cell_type": "markdown",
   "id": "0c9eb837",
   "metadata": {},
   "source": [
    "When it's possible, new will be just a view of the initial array a, meaning that the data are shared. \n",
    "In some cases, though, new array will be acopy instead. Note that np.reshape also accepts an optional keyword order that lets you switch from row-major C order to column-major Fortran order. np.reshape is the function version of the a.reshape method."
   ]
  },
  {
   "cell_type": "code",
   "execution_count": 14,
   "id": "646731f3",
   "metadata": {},
   "outputs": [],
   "source": [
    "# we now convert it to two dimension.\n",
    "test_df=np.array([72, 14, 39, 8, 16])\n",
    "test_df1=test_df[:,np.newaxis]"
   ]
  },
  {
   "cell_type": "code",
   "execution_count": 15,
   "id": "98d7e431",
   "metadata": {},
   "outputs": [
    {
     "data": {
      "text/plain": [
       "dtype('int32')"
      ]
     },
     "execution_count": 15,
     "metadata": {},
     "output_type": "execute_result"
    }
   ],
   "source": [
    "test_df.dtype"
   ]
  },
  {
   "cell_type": "code",
   "execution_count": 16,
   "id": "398afd42",
   "metadata": {},
   "outputs": [
    {
     "data": {
      "text/plain": [
       "array([[72],\n",
       "       [14],\n",
       "       [39],\n",
       "       [ 8],\n",
       "       [16]])"
      ]
     },
     "execution_count": 16,
     "metadata": {},
     "output_type": "execute_result"
    }
   ],
   "source": [
    "test_df1"
   ]
  },
  {
   "cell_type": "markdown",
   "id": "ed2cf580",
   "metadata": {},
   "source": [
    "**Why Scaling the data for KNN?**"
   ]
  },
  {
   "cell_type": "markdown",
   "id": "009da961",
   "metadata": {},
   "source": [
    "it is always advisable to bring all the features to the same scale for applying distance based algorithms like KNN"
   ]
  },
  {
   "cell_type": "markdown",
   "id": "33a3bea6",
   "metadata": {},
   "source": [
    "Let's see an example of distance calculation using two features whose magnitudes/ranges vary greatly.\n",
    "Euclidean Distance = [(100000–80000)^2 + (30–25)^2]^(1/2)"
   ]
  },
  {
   "cell_type": "markdown",
   "id": "98574d5f",
   "metadata": {},
   "source": [
    "- We can imagine how the feature with greater range with overshadow or dimenish the smaller feature completely and this will impact the performance of all distance based model as it will give higher weightage to variables which have higher magnitude"
   ]
  },
  {
   "cell_type": "code",
   "execution_count": 17,
   "id": "f33957ac",
   "metadata": {},
   "outputs": [],
   "source": [
    "#sample test\n",
    "x = train_df.iloc[:, [2, 3]].values"
   ]
  },
  {
   "cell_type": "code",
   "execution_count": 18,
   "id": "d9b4b809",
   "metadata": {},
   "outputs": [
    {
     "name": "stderr",
     "output_type": "stream",
     "text": [
      "C:\\ProgramData\\Anaconda3\\lib\\site-packages\\sklearn\\cluster\\_kmeans.py:881: UserWarning: KMeans is known to have a memory leak on Windows with MKL, when there are less chunks than available threads. You can avoid it by setting the environment variable OMP_NUM_THREADS=1.\n",
      "  warnings.warn(\n"
     ]
    }
   ],
   "source": [
    "#Building the Model\n",
    "#We use KMeans Algorithm to decide the optimum cluster number , KMeans++ using Elbow Mmethod\n",
    "#to figure out K for KMeans, I will use ELBOW Method on KMEANS++ Calculation\n",
    "#We always assume the max number of clusters would be 10\n",
    "# We  can judge the number of clusters by doing averaging\n",
    "from sklearn.cluster import KMeans\n",
    "wcss=[]\n",
    "\n",
    "# We use the below static code to get max number of clusters\n",
    "\n",
    "for i in range(1,11):\n",
    "    kmeans = KMeans(n_clusters= i, init='k-means++', random_state=0)\n",
    "    kmeans.fit(x)\n",
    "    wcss.append(kmeans.inertia_)\n",
    "    \n",
    "#inertia_ is the formula used to segregate the data points into clusters"
   ]
  },
  {
   "cell_type": "code",
   "execution_count": 19,
   "id": "0cd6f89b",
   "metadata": {},
   "outputs": [
    {
     "data": {
      "text/plain": [
       "'\"\"from sklearn.neighbors import KNeighborsClassifier\\n#test_scores = []\\ntrain_scores = []\\nfor i in range(1,15):\\n\\n    knn = KNeighborsClassifier(i)\\n    knn.fit(train_features,test_df1)\\n    \\n    train_scores.append(knn.score(train_features,test_df1))\\n    test_scores.append(knn.score(test_df1,test_df1))'"
      ]
     },
     "execution_count": 19,
     "metadata": {},
     "output_type": "execute_result"
    }
   ],
   "source": [
    "\"\"\"\"\"from sklearn.neighbors import KNeighborsClassifier\n",
    "#test_scores = []\n",
    "train_scores = []\n",
    "for i in range(1,15):\n",
    "\n",
    "    knn = KNeighborsClassifier(i)\n",
    "    knn.fit(train_features,test_df1)\n",
    "    \n",
    "    train_scores.append(knn.score(train_features,test_df1))\n",
    "    test_scores.append(knn.score(test_df1,test_df1))\"\"\""
   ]
  },
  {
   "cell_type": "code",
   "execution_count": 20,
   "id": "f30b77dc",
   "metadata": {},
   "outputs": [
    {
     "data": {
      "image/png": "[encoded data removed]",
      "text/plain": [
       "<Figure size 432x288 with 1 Axes>"
      ]
     },
     "metadata": {
      "needs_background": "light"
     },
     "output_type": "display_data"
    }
   ],
   "source": [
    "#Visualize the ELBOW method to get the optimal value of K \n",
    "plt.plot(range(1,11), wcss)\n",
    "plt.title('The Elbow Method')\n",
    "plt.xlabel('no of clusters')\n",
    "plt.ylabel('wcss')\n",
    "plt.show()"
   ]
  },
  {
   "cell_type": "markdown",
   "id": "a8ca4a8e",
   "metadata": {},
   "source": [
    "* It is clear from the figure that we should take the number of clusters equal to 5, as the slope of the curve is not steep enough after it. when we zoom out this curve then you will see that last elbow comes at k=5, it would be difficult to visualize the elbow if we choose the higher range. This why its usually recommended to pick a range of 1 to 11 Therefore our k=5"
   ]
  },
  {
   "cell_type": "code",
   "execution_count": 21,
   "id": "53dfd8b5",
   "metadata": {},
   "outputs": [
    {
     "data": {
      "image/png": "[encoded data removed]",
      "text/plain": [
       "<Figure size 432x288 with 1 Axes>"
      ]
     },
     "metadata": {
      "needs_background": "light"
     },
     "output_type": "display_data"
    }
   ],
   "source": [
    "#Model Build\n",
    "#our data set is for  unsupervised learning therefore we will use \"fit_predict()\"\n",
    "#suppose we were working with  supervised learning data set we would use \"fit_tranform()\"\n",
    "#y_kmeans is our final model.\n",
    "kmeansmodel = KMeans(n_clusters= 5, init='k-means++', random_state=0)\n",
    "train_features_kmeans= kmeansmodel.fit_predict(test_df1)\n",
    "\n",
    "#Visualizing all our the clusters\n",
    "plt.scatter(test_df1[train_features_kmeans == 0, 0], test_df1[train_features_kmeans == 0], s = 100, c = 'red')\n",
    "plt.scatter(kmeans.cluster_centers_[:, 0], kmeans.cluster_centers_[:, 1], s = 300, c = 'yellow', label = 'Centroids')\n",
    "plt.title('Train df vs Test df', fontsize = 20)\n",
    "plt.xlabel('train_features (float)')\n",
    "plt.ylabel('test_df1 (float)')\n",
    "plt.legend()\n",
    "plt.show()"
   ]
  },
  {
   "cell_type": "code",
   "execution_count": null,
   "id": "44c8c96b",
   "metadata": {},
   "outputs": [],
   "source": []
  }
 ],
 "metadata": {
  "kernelspec": {
   "display_name": "Python 3",
   "language": "python",
   "name": "python3"
  },
  "language_info": {
   "codemirror_mode": {
    "name": "ipython",
    "version": 3
   },
   "file_extension": ".py",
   "mimetype": "text/x-python",
   "name": "python",
   "nbconvert_exporter": "python",
   "pygments_lexer": "ipython3",
   "version": "3.8.8"
  }
 },
 "nbformat": 4,
 "nbformat_minor": 5
}
